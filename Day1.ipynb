{
 "cells": [
  {
   "cell_type": "markdown",
   "id": "2c929637",
   "metadata": {},
   "source": [
    "## Day1 "
   ]
  },
  {
   "cell_type": "code",
   "execution_count": 1,
   "id": "9919e109",
   "metadata": {},
   "outputs": [
    {
     "name": "stdout",
     "output_type": "stream",
     "text": [
      "Hello World!!\n"
     ]
    }
   ],
   "source": [
    "print(\"Hello World!!\")"
   ]
  },
  {
   "cell_type": "code",
   "execution_count": 2,
   "id": "44b51bd3",
   "metadata": {},
   "outputs": [
    {
     "name": "stdout",
     "output_type": "stream",
     "text": [
      "Helllo world!!\n",
      "Helllo world!!\n",
      "Helllo world!!\n"
     ]
    }
   ],
   "source": [
    "print('Helllo world!!\\nHelllo world!!\\nHelllo world!!')"
   ]
  },
  {
   "cell_type": "code",
   "execution_count": 4,
   "id": "a583615f",
   "metadata": {},
   "outputs": [
    {
     "name": "stdout",
     "output_type": "stream",
     "text": [
      "Hello Ravi\n"
     ]
    }
   ],
   "source": [
    "# concatanation of string\n",
    "print(\"Hello\" + \" \" + \"Ravi\") #middle plus is used to add space b/w the name and hello"
   ]
  },
  {
   "cell_type": "code",
   "execution_count": 5,
   "id": "6f1d999f",
   "metadata": {},
   "outputs": [
    {
     "ename": "IndentationError",
     "evalue": "unexpected indent (Temp/ipykernel_8032/361845051.py, line 2)",
     "output_type": "error",
     "traceback": [
      "\u001b[1;36m  File \u001b[1;32m\"C:\\Users\\RAVIVI~1\\AppData\\Local\\Temp/ipykernel_8032/361845051.py\"\u001b[1;36m, line \u001b[1;32m2\u001b[0m\n\u001b[1;33m    print(\"hii!!!!!\")\u001b[0m\n\u001b[1;37m    ^\u001b[0m\n\u001b[1;31mIndentationError\u001b[0m\u001b[1;31m:\u001b[0m unexpected indent\n"
     ]
    }
   ],
   "source": [
    "# in python spaces are very important\n",
    " print(\"hii!!!!!\")  # always start without any space"
   ]
  },
  {
   "cell_type": "markdown",
   "id": "fc565908",
   "metadata": {},
   "source": [
    "#### input function"
   ]
  },
  {
   "cell_type": "code",
   "execution_count": 6,
   "id": "1ee8c27a",
   "metadata": {},
   "outputs": [
    {
     "name": "stdout",
     "output_type": "stream",
     "text": [
      "what is your name?Ravi Kumar Vishwakarma\n"
     ]
    },
    {
     "data": {
      "text/plain": [
       "'Ravi Kumar Vishwakarma'"
      ]
     },
     "execution_count": 6,
     "metadata": {},
     "output_type": "execute_result"
    }
   ],
   "source": [
    "input(\"what is your name?\")"
   ]
  },
  {
   "cell_type": "code",
   "execution_count": 8,
   "id": "31069bc4",
   "metadata": {},
   "outputs": [
    {
     "name": "stdout",
     "output_type": "stream",
     "text": [
      "what is your name?Ravi\n",
      "Hello!!Ravi\n"
     ]
    }
   ],
   "source": [
    "print('Hello!!' + input(\"what is your name?\"))"
   ]
  },
  {
   "cell_type": "markdown",
   "id": "278ee5b3",
   "metadata": {},
   "source": [
    "#### exercise"
   ]
  },
  {
   "cell_type": "code",
   "execution_count": 14,
   "id": "659c674b",
   "metadata": {},
   "outputs": [
    {
     "name": "stdout",
     "output_type": "stream",
     "text": [
      "what is your name?Ravi\n",
      "4\n",
      "what is your name?Prashant\n",
      "8\n"
     ]
    }
   ],
   "source": [
    "# write the code to calculate number of characters in your name\n",
    "name = input('what is your name?')\n",
    "print(len(name))\n",
    "\n",
    "\n",
    "# this can be done by another way\n",
    "print(len(input(\"what is your name?\")))"
   ]
  },
  {
   "cell_type": "markdown",
   "id": "faa1bf41",
   "metadata": {},
   "source": [
    "#### variables"
   ]
  },
  {
   "cell_type": "code",
   "execution_count": 19,
   "id": "f4f1d8f1",
   "metadata": {},
   "outputs": [
    {
     "name": "stdout",
     "output_type": "stream",
     "text": [
      "what is your name?ravi\n",
      "Ram\n"
     ]
    }
   ],
   "source": [
    "name  = input(\"what is your name?\")\n",
    "name = 'Ram'\n",
    "print(name) # here name is variable, only data of variable will be printed"
   ]
  },
  {
   "cell_type": "code",
   "execution_count": 20,
   "id": "44806160",
   "metadata": {},
   "outputs": [
    {
     "name": "stdout",
     "output_type": "stream",
     "text": [
      "what is your name?ravi\n",
      "4\n"
     ]
    }
   ],
   "source": [
    "name = input('what is your name?')\n",
    "length = len(name)\n",
    "print(length)  #different varible should have different value"
   ]
  },
  {
   "cell_type": "markdown",
   "id": "8ef116e9",
   "metadata": {},
   "source": [
    "#### exercise"
   ]
  },
  {
   "cell_type": "code",
   "execution_count": 24,
   "id": "eba4b24f",
   "metadata": {},
   "outputs": [
    {
     "name": "stdout",
     "output_type": "stream",
     "text": [
      "enter the vlue of a:2\n",
      "enter the vlue of b:4\n",
      "4\n",
      "2\n"
     ]
    }
   ],
   "source": [
    "# swap the values of two variables\n",
    "a = input(\"enter the vlue of a:\")\n",
    "b = input(\"enter the vlue of b:\")\n",
    "# now i have swap the values\n",
    "c = a\n",
    "a = b\n",
    "b = c\n",
    "print(a)\n",
    "print(b)\n"
   ]
  },
  {
   "cell_type": "markdown",
   "id": "2c14801c",
   "metadata": {},
   "source": [
    "#### exercise"
   ]
  },
  {
   "cell_type": "code",
   "execution_count": 29,
   "id": "523c9485",
   "metadata": {},
   "outputs": [
    {
     "name": "stdout",
     "output_type": "stream",
     "text": [
      "in which city you have grew up?mughalsarai\n",
      "what is your pet namechandu\n",
      "your band name is:mughalsarai chandu\n"
     ]
    }
   ],
   "source": [
    "# name of your band\n",
    "city = input(\"in which city you have grew up?\") \n",
    "pet = input('what is your pet name')\n",
    "band_name = \"your band name is:\" + city +\" \" + pet\n",
    "print(band_name)\n"
   ]
  },
  {
   "cell_type": "markdown",
   "id": "8f58b033",
   "metadata": {},
   "source": []
  },
  {
   "cell_type": "code",
   "execution_count": null,
   "id": "d9a73137",
   "metadata": {},
   "outputs": [],
   "source": []
  }
 ],
 "metadata": {
  "kernelspec": {
   "display_name": "Python 3 (ipykernel)",
   "language": "python",
   "name": "python3"
  },
  "language_info": {
   "codemirror_mode": {
    "name": "ipython",
    "version": 3
   },
   "file_extension": ".py",
   "mimetype": "text/x-python",
   "name": "python",
   "nbconvert_exporter": "python",
   "pygments_lexer": "ipython3",
   "version": "3.9.7"
  }
 },
 "nbformat": 4,
 "nbformat_minor": 5
}
